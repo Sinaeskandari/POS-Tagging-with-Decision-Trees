{
  "cells": [
    {
      "cell_type": "markdown",
      "metadata": {
        "id": "V9T7zfAO5AHD"
      },
      "source": [
        "# Imports"
      ]
    },
    {
      "cell_type": "code",
      "execution_count": 91,
      "metadata": {
        "id": "rxEc_HuUUYA4"
      },
      "outputs": [],
      "source": [
        "import nltk\n",
        "from nltk import word_tokenize\n",
        "from nltk.corpus import treebank\n",
        "import pprint\n",
        "from sklearn.tree import DecisionTreeClassifier\n",
        "from sklearn.feature_extraction import DictVectorizer\n",
        "from sklearn.pipeline import Pipeline\n",
        "from sklearn.model_selection import train_test_split"
      ]
    },
    {
      "cell_type": "markdown",
      "metadata": {
        "id": "bXkDcLEC5AHO"
      },
      "source": [
        "# Datasets download"
      ]
    },
    {
      "cell_type": "code",
      "execution_count": 92,
      "metadata": {
        "colab": {
          "base_uri": "https://localhost:8080/"
        },
        "id": "2O4WyhH9WL2f",
        "outputId": "fb668a65-c322-4d83-9133-ed36b5c2557e",
        "scrolled": false
      },
      "outputs": [
        {
          "name": "stdout",
          "output_type": "stream",
          "text": [
            "[nltk_data] Downloading package treebank to /root/nltk_data...\n",
            "[nltk_data]   Package treebank is already up-to-date!\n",
            "[nltk_data] Downloading package punkt to /root/nltk_data...\n",
            "[nltk_data]   Package punkt is already up-to-date!\n"
          ]
        },
        {
          "data": {
            "text/plain": [
              "True"
            ]
          },
          "execution_count": 92,
          "metadata": {},
          "output_type": "execute_result"
        }
      ],
      "source": [
        "nltk.download('treebank')\n",
        "nltk.download('punkt')"
      ]
    },
    {
      "cell_type": "markdown",
      "metadata": {
        "id": "IDERWygA5AHR"
      },
      "source": [
        "# Tagged sentences"
      ]
    },
    {
      "cell_type": "code",
      "execution_count": 93,
      "metadata": {
        "colab": {
          "base_uri": "https://localhost:8080/"
        },
        "id": "3GYqC2mfUj_S",
        "outputId": "4835281c-5922-439a-bcbb-0250bb38b2c3"
      },
      "outputs": [
        {
          "name": "stdout",
          "output_type": "stream",
          "text": [
            "[('Pierre', 'NNP'), ('Vinken', 'NNP'), (',', ','), ('61', 'CD'), ('years', 'NNS'), ('old', 'JJ'), (',', ','), ('will', 'MD'), ('join', 'VB'), ('the', 'DT'), ('board', 'NN'), ('as', 'IN'), ('a', 'DT'), ('nonexecutive', 'JJ'), ('director', 'NN'), ('Nov.', 'NNP'), ('29', 'CD'), ('.', '.')]\n"
          ]
        }
      ],
      "source": [
        "tagged_sentences = treebank.tagged_sents()\n",
        "print(tagged_sentences[0])"
      ]
    },
    {
      "cell_type": "markdown",
      "metadata": {},
      "source": [
        "# Feature Extraction"
      ]
    },
    {
      "cell_type": "code",
      "execution_count": 94,
      "metadata": {
        "id": "KGRClIrhHd3k"
      },
      "outputs": [],
      "source": [
        "def extract_features(sentence, i):\n",
        "    token = sentence[i]\n",
        "    return {\n",
        "        'token': token,\n",
        "        'is_first': i == 0,\n",
        "        'is_last': i == len(sentence) - 1,\n",
        "        'is_capitalized': token[0].upper() == token[0],\n",
        "        'is_all_caps': token.upper() == token,\n",
        "        'is_all_lower': token.lower() == token,\n",
        "        'is_numeric': token.isdigit(),\n",
        "        'prefix-1': token[0],\n",
        "        'prefix-2': token[:2],\n",
        "        'prefix-3': token[:3], \n",
        "        'suffix-1': token[-1],\n",
        "        'suffix-2': token[-2:],\n",
        "        'suffix-3': token[-3:],\n",
        "        'prev_word': '' if i == 0 else sentence[i - 1],\n",
        "        'next_word': '' if i == len(sentence) - 1 else sentence[i + 1]\n",
        "    }"
      ]
    },
    {
      "cell_type": "code",
      "execution_count": 95,
      "metadata": {
        "id": "dHR1TvGRKJlU"
      },
      "outputs": [],
      "source": [
        "X = []\n",
        "Y = []\n",
        "\n",
        "for t in tagged_sentences:\n",
        "    for i in range(len(t)):\n",
        "        X.append(extract_features([j[0] for j in t], i))\n",
        "        Y.append(t[i][1])"
      ]
    },
    {
      "cell_type": "code",
      "execution_count": 96,
      "metadata": {
        "id": "hH3S-8naKoq7"
      },
      "outputs": [],
      "source": [
        "X_train, X_test, Y_train, Y_test = train_test_split(X, Y, test_size=0.2)"
      ]
    },
    {
      "cell_type": "markdown",
      "metadata": {},
      "source": [
        "# Model Training"
      ]
    },
    {
      "cell_type": "code",
      "execution_count": 97,
      "metadata": {
        "colab": {
          "base_uri": "https://localhost:8080/"
        },
        "id": "ei7AvWriY9Fc",
        "outputId": "8fdd0695-b6cc-4e5b-c9e2-8f0723deee8e"
      },
      "outputs": [
        {
          "data": {
            "text/plain": [
              "Pipeline(steps=[('vectorizer', DictVectorizer(sparse=False)),\n",
              "                ('classifier', DecisionTreeClassifier(criterion='entropy'))])"
            ]
          },
          "execution_count": 97,
          "metadata": {},
          "output_type": "execute_result"
        }
      ],
      "source": [
        "classifier = Pipeline([('vectorizer', DictVectorizer(sparse=False)), ('classifier', DecisionTreeClassifier(criterion='entropy'))])\n",
        "\n",
        "classifier.fit(X_train[:10000], Y_train[:10000])"
      ]
    },
    {
      "cell_type": "markdown",
      "metadata": {},
      "source": [
        "# Model Evaluation"
      ]
    },
    {
      "cell_type": "code",
      "execution_count": 98,
      "metadata": {
        "colab": {
          "base_uri": "https://localhost:8080/"
        },
        "id": "T-Yfn5fiQP5U",
        "outputId": "fec775bf-c5e8-4ecc-c1d9-8aa4cec6c6da"
      },
      "outputs": [
        {
          "name": "stdout",
          "output_type": "stream",
          "text": [
            "accuracy 0.8987882399682161\n"
          ]
        }
      ],
      "source": [
        "print(\"accuracy\", classifier.score(X_test, Y_test))"
      ]
    },
    {
      "cell_type": "code",
      "execution_count": 99,
      "metadata": {
        "id": "AcdrCp8pTXIV"
      },
      "outputs": [],
      "source": [
        "def pos_tag(tokens):\n",
        "    tags = classifier.predict([extract_features(tokens, i) for i in range(len(tokens))])\n",
        "    return zip(tokens, tags)"
      ]
    },
    {
      "cell_type": "markdown",
      "metadata": {
        "id": "lXXmv06A5AHU"
      },
      "source": [
        "# Sample for output of your PoS tagger"
      ]
    },
    {
      "cell_type": "code",
      "execution_count": 100,
      "metadata": {
        "colab": {
          "base_uri": "https://localhost:8080/"
        },
        "id": "WlBIyChncJIZ",
        "outputId": "aefa16cc-ade5-4536-c2cf-c0e032ea24c0"
      },
      "outputs": [
        {
          "name": "stdout",
          "output_type": "stream",
          "text": [
            "[('This', 'DT'), ('is', 'VBZ'), ('my', 'PRP$'), ('friend', 'NN'), (',', ','), ('John', 'NNP'), ('.', '.')]\n"
          ]
        }
      ],
      "source": [
        "print(list(pos_tag(word_tokenize('This is my friend, John.'))))"
      ]
    },
    {
      "cell_type": "code",
      "execution_count": 100,
      "metadata": {
        "id": "0EFXrDYKdeBG"
      },
      "outputs": [],
      "source": []
    }
  ],
  "metadata": {
    "colab": {
      "name": "PoS_Tagger.ipynb",
      "provenance": []
    },
    "kernelspec": {
      "display_name": "Python 3 (ipykernel)",
      "language": "python",
      "name": "python3"
    },
    "language_info": {
      "codemirror_mode": {
        "name": "ipython",
        "version": 3
      },
      "file_extension": ".py",
      "mimetype": "text/x-python",
      "name": "python",
      "nbconvert_exporter": "python",
      "pygments_lexer": "ipython3",
      "version": "3.7.11"
    }
  },
  "nbformat": 4,
  "nbformat_minor": 0
}
